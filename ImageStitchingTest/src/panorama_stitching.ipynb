{
 "cells": [
  {
   "cell_type": "markdown",
   "metadata": {},
   "source": [
    "## Image Panorama Stitching with OpenCV\n",
    "\n",
    "This is the source code and notes from this [article](https://pyimagesearch.com/2018/12/17/image-stitching-with-opencv-and-python/) it is an introduction to image stitching using the OpenCV library. \n",
    "\n",
    "### Notes:\n",
    "This file uses imutiles package to check the version of OpenCV that the user is using. To install with conda run the following command in your terminal.\n",
    "`conda install -c conda-forge imutils`\n",
    "\n",
    "If using pip install by running this command.\n",
    "`pip install imutils`"
   ]
  },
  {
   "cell_type": "code",
   "execution_count": null,
   "metadata": {},
   "outputs": [],
   "source": [
    "from imutils import paths\n",
    "from os.path import join\n",
    "from os import walk\n",
    "import matplotlib.pyplot as plt\n",
    "import numpy as np\n",
    "import imutils\n",
    "import cv2"
   ]
  },
  {
   "cell_type": "code",
   "execution_count": null,
   "metadata": {},
   "outputs": [],
   "source": [
    "# images used for the stitching process\n",
    "print(\"loading images...\")\n",
    "for (dir_root, dir_names, file_names) in walk(\"../images/scottsdale/\"):\n",
    "    img_paths = [join(dir_root, name) for name in file_names]\n",
    "    images = [cv2.imread(path) for path in img_paths]\n",
    "\n",
    "print(f\"Done {len(images)} images where loaded.\")\n",
    "for img in images:\n",
    "    plt.imshow(cv2.cvtColor(img, cv2.COLOR_BGR2RGB))\n",
    "    plt.show()"
   ]
  },
  {
   "cell_type": "code",
   "execution_count": null,
   "metadata": {},
   "outputs": [],
   "source": [
    "# initialize OpenCV's image stitcher object and then perform the image stitching\n",
    "print(\"stitching images...\")\n",
    "stitcher = cv2.createStitcher() if imutils.is_cv3() else cv2.Stitcher_create()\n",
    "(status, stitched_img) = stitcher.stitch(images)\n",
    "\n",
    "# if the status is '0', then OpenCV successfully performed image stitching\n",
    "output_path = \"../images/outputs/stitched_image.png\"\n",
    "\n",
    "if status == 0:\n",
    "    print(f\"Done stitching images with status {status}.\")\n",
    "    # write the output stitched image to disk\n",
    "    cv2.imwrite(output_path, stitched_img)\n",
    "    # display the output stitched image to our screen\n",
    "    plt.imshow(cv2.cvtColor(stitched_img, cv2.COLOR_BGR2RGB))\n",
    "    # as opencv loads in BGR format by default, we want to show it in RGB.\n",
    "    plt.show()\n",
    "else:\n",
    "    print(f\"image stitching failed with status ({status})\")"
   ]
  },
  {
   "cell_type": "markdown",
   "metadata": {},
   "source": [
    "### Issues with this implementation \n",
    "\n",
    "Notice those black regions surrounding the panorama. With this implementation our output image will have the black regions. The regions are from performing the perspective warps required to construct the panorama. The is done by the OpenCV library behind the scenes."
   ]
  },
  {
   "cell_type": "markdown",
   "metadata": {},
   "source": [
    "## A better image stitcher\n",
    "\n",
    "We will use a hack to crop the black regions from the stitched image."
   ]
  },
  {
   "cell_type": "code",
   "execution_count": null,
   "metadata": {},
   "outputs": [],
   "source": [
    "output_path = \"../images/outputs/better_stitched.png\"\n",
    "\n",
    "if status == 0:\n",
    "\t# create a 10 pixel border surrounding the stitched image\n",
    "\tprint(\"cropping the stitched image...\")\n",
    "\tstitched = cv2.copyMakeBorder(stitched_img, 10, 10, 10, 10, cv2.BORDER_CONSTANT, (0, 0, 0))\n",
    "\t# convert the stitched image to grayscale and threshold it\n",
    "\t# such that all pixels greater than zero are set to 255\n",
    "\t# (foreground) while all others remain 0 (background)\n",
    "\tgray = cv2.cvtColor(stitched, cv2.COLOR_BGR2GRAY)\n",
    "\tthresh = cv2.threshold(gray, 0, 255, cv2.THRESH_BINARY)[1]\n",
    "\n",
    "    # find all external contours in the threshold image then find the *largest* contour \n",
    "    # which will be the contour/outline of the stitched image\n",
    "\tcnts = cv2.findContours(thresh.copy(), cv2.RETR_EXTERNAL, cv2.CHAIN_APPROX_SIMPLE)\n",
    "\tcnts = imutils.grab_contours(cnts)\n",
    "\tc = max(cnts, key=cv2.contourArea)\n",
    "\n",
    "\t# allocate memory for the mask which will contain the\n",
    "\t# rectangular bounding box of the stitched image region\n",
    "\tmask = np.zeros(thresh.shape, dtype=\"uint8\")\n",
    "\t(x, y, w, h) = cv2.boundingRect(c)\n",
    "\tcv2.rectangle(mask, (x, y), (x + w, y + h), 255, -1)\n",
    "\n",
    "    # create two copies of the mask: one to serve as our actual\n",
    "\t# minimum rectangular region and another to serve as a counter\n",
    "\t# for how many pixels need to be removed to form the minimum\n",
    "\t# rectangular region\n",
    "\tminRect = mask.copy()\n",
    "\tsub = mask.copy()\n",
    "\n",
    "\t# keep looping until there are no non-zero pixels left in the\n",
    "\t# subtracted image\n",
    "\twhile cv2.countNonZero(sub) > 0:\n",
    "\t\t# erode the minimum rectangular mask and then subtract\n",
    "\t\t# the thresholded image from the minimum rectangular mask\n",
    "\t\t# so we can count if there are any non-zero pixels left\n",
    "\t\tminRect = cv2.erode(minRect, None)\n",
    "\t\tsub = cv2.subtract(minRect, thresh)\n",
    "\n",
    "\n",
    "\t# find contours in the minimum rectangular mask and then\n",
    "\t# extract the bounding box (x, y)-coordinates\n",
    "\tcnts = cv2.findContours(minRect.copy(), cv2.RETR_EXTERNAL, cv2.CHAIN_APPROX_SIMPLE)\n",
    "\tcnts = imutils.grab_contours(cnts)\n",
    "\tc = max(cnts, key=cv2.contourArea)\n",
    "\t(x, y, w, h) = cv2.boundingRect(c)\n",
    "\t# use the bounding box coordinates to extract the our final\n",
    "\t# stitched image\n",
    "\tstitched_img = stitched_img[y:y + h, x:x + w]\n",
    "\n",
    "\t# write the output stitched image to disk\n",
    "\tcv2.imwrite(output_path, stitched_img)\n",
    "\t\n",
    "\tplt.imshow(cv2.cvtColor(stitched_img, cv2.COLOR_BGR2RGB))\n",
    "\tplt.show()"
   ]
  }
 ],
 "metadata": {
  "kernelspec": {
   "display_name": "Python 3.7.11 ('opencv_env')",
   "language": "python",
   "name": "python3"
  },
  "language_info": {
   "codemirror_mode": {
    "name": "ipython",
    "version": 3
   },
   "file_extension": ".py",
   "mimetype": "text/x-python",
   "name": "python",
   "nbconvert_exporter": "python",
   "pygments_lexer": "ipython3",
   "version": "3.7.11"
  },
  "orig_nbformat": 4,
  "vscode": {
   "interpreter": {
    "hash": "c1e9d4ea7c3b37828caa7662d18eec7f75a1589248e6c15066e1c2da502e85d6"
   }
  }
 },
 "nbformat": 4,
 "nbformat_minor": 2
}
