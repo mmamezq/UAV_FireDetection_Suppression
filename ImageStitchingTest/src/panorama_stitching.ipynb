{
 "cells": [
  {
   "cell_type": "markdown",
   "metadata": {},
   "source": [
    "## Image Panorama Stitching with OpenCV\n",
    "\n",
    "This is the source code and notes from this [article](https://pyimagesearch.com/2018/12/17/image-stitching-with-opencv-and-python/) it is an introduction to image stitching using the OpenCV library. \n",
    "\n",
    "### Notes:\n",
    "This file uses imutiles package to check the version of OpenCV that the user is using. To install with conda run the following command in your terminal.\n",
    "`conda install -c conda-forge imutils`\n",
    "\n",
    "If using pip install by running this command.\n",
    "`pip install imutils`"
   ]
  },
  {
   "cell_type": "code",
   "execution_count": null,
   "metadata": {},
   "outputs": [],
   "source": [
    "from imutils import paths\n",
    "from os.path import join\n",
    "from os import walk\n",
    "import matplotlib.pyplot as plt\n",
    "import numpy as np\n",
    "import imutils\n",
    "import cv2"
   ]
  },
  {
   "cell_type": "code",
   "execution_count": null,
   "metadata": {},
   "outputs": [],
   "source": [
    "# images used for the stitching process\n",
    "print(\"loading images...\")\n",
    "for (dir_root, dir_names, file_names) in walk(\"../images/scottsdale/\"):\n",
    "    img_paths = [join(dir_root, name) for name in file_names]\n",
    "    images = [cv2.imread(path) for path in img_paths]\n",
    "\n",
    "print(f\"Done {len(images)} images where loaded.\")\n",
    "for img in images:\n",
    "    plt.imshow(cv2.cvtColor(img, cv2.COLOR_BGR2RGB))\n",
    "    plt.show()"
   ]
  },
  {
   "cell_type": "code",
   "execution_count": null,
   "metadata": {},
   "outputs": [],
   "source": [
    "# initialize OpenCV's image stitcher object and then perform the image stitching\n",
    "print(\"stitching images...\")\n",
    "stitcher = cv2.createStitcher() if imutils.is_cv3() else cv2.Stitcher_create()\n",
    "(status, stitched_img) = stitcher.stitch(images)\n",
    "\n",
    "# if the status is '0', then OpenCV successfully performed image stitching\n",
    "output_path = \"../images/outputs/stitched_image.png\"\n",
    "\n",
    "if status == 0:\n",
    "    print(f\"Done stitching images with status {status}.\")\n",
    "    # write the output stitched image to disk\n",
    "    cv2.imwrite(output_path, stitched_img)\n",
    "    # display the output stitched image to our screen\n",
    "    plt.imshow(cv2.cvtColor(stitched_img, cv2.COLOR_BGR2RGB))\n",
    "    # as opencv loads in BGR format by default, we want to show it in RGB.\n",
    "    plt.show()\n",
    "else:\n",
    "    print(f\"image stitching failed with status ({status})\")"
   ]
  }
 ],
 "metadata": {
  "kernelspec": {
   "display_name": "Python 3.7.11 ('opencv_env')",
   "language": "python",
   "name": "python3"
  },
  "language_info": {
   "codemirror_mode": {
    "name": "ipython",
    "version": 3
   },
   "file_extension": ".py",
   "mimetype": "text/x-python",
   "name": "python",
   "nbconvert_exporter": "python",
   "pygments_lexer": "ipython3",
   "version": "3.7.11"
  },
  "orig_nbformat": 4,
  "vscode": {
   "interpreter": {
    "hash": "c1e9d4ea7c3b37828caa7662d18eec7f75a1589248e6c15066e1c2da502e85d6"
   }
  }
 },
 "nbformat": 4,
 "nbformat_minor": 2
}
